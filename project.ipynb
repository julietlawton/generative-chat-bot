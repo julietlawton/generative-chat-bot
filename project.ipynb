{
 "cells": [
  {
   "cell_type": "code",
   "execution_count": 9,
   "metadata": {},
   "outputs": [
    {
     "name": "stderr",
     "output_type": "stream",
     "text": [
      "/Users/juliet/Desktop/MSAAI/AAI-520/FinalProject/.env/lib/python3.9/site-packages/tqdm/auto.py:21: TqdmWarning: IProgress not found. Please update jupyter and ipywidgets. See https://ipywidgets.readthedocs.io/en/stable/user_install.html\n",
      "  from .autonotebook import tqdm as notebook_tqdm\n"
     ]
    }
   ],
   "source": [
    "import os\n",
    "import chardet\n",
    "import re\n",
    "import pandas as pd\n",
    "import numpy as np\n",
    "import matplotlib.pyplot as plt\n",
    "from transformers import GPT2Tokenizer"
   ]
  },
  {
   "cell_type": "code",
   "execution_count": 4,
   "metadata": {},
   "outputs": [
    {
     "name": "stdout",
     "output_type": "stream",
     "text": [
      "Windows-1252\n",
      "ascii\n"
     ]
    }
   ],
   "source": [
    "# Detect encoding of the movie lines file\n",
    "cwd = os.getcwd()\n",
    "\n",
    "with open(cwd + \"/movie_lines/movie_lines.txt\", \"rb\") as f:\n",
    "    result = chardet.detect(f.read())\n",
    "    movie_lines_encoding = result[\"encoding\"]\n",
    "\n",
    "with open(cwd + \"/movie_lines/movie_conversations.txt\", \"rb\") as f:\n",
    "    result = chardet.detect(f.read())\n",
    "    movie_conversations_encoding = result[\"encoding\"]\n",
    "\n",
    "print(movie_lines_encoding)\n",
    "print(movie_conversations_encoding)"
   ]
  },
  {
   "cell_type": "code",
   "execution_count": 5,
   "metadata": {},
   "outputs": [
    {
     "name": "stdout",
     "output_type": "stream",
     "text": [
      "['L1045 +++$+++ u0 +++$+++ m0 +++$+++ BIANCA +++$+++ They do not!', 'L1044 +++$+++ u2 +++$+++ m0 +++$+++ CAMERON +++$+++ They do to!', 'L985 +++$+++ u0 +++$+++ m0 +++$+++ BIANCA +++$+++ I hope so.', 'L984 +++$+++ u2 +++$+++ m0 +++$+++ CAMERON +++$+++ She okay?', \"L925 +++$+++ u0 +++$+++ m0 +++$+++ BIANCA +++$+++ Let's go.\"]\n",
      "304713\n"
     ]
    }
   ],
   "source": [
    "# Collect individual movie lines\n",
    "with open(cwd + \"/movie_lines/movie_lines.txt\", \"r\", encoding=movie_lines_encoding) as f:\n",
    "    content = f.read()\n",
    "\n",
    "lines = content.split(\"\\n\")\n",
    "\n",
    "# Print first 5 lines and verify length is correct\n",
    "print(lines[:5])\n",
    "\n",
    "# Remove last element of lines because its an empty string\n",
    "lines = lines[:-1]\n",
    "print(len(lines))\n"
   ]
  },
  {
   "cell_type": "code",
   "execution_count": 6,
   "metadata": {},
   "outputs": [
    {
     "data": {
      "text/html": [
       "<div>\n",
       "<style scoped>\n",
       "    .dataframe tbody tr th:only-of-type {\n",
       "        vertical-align: middle;\n",
       "    }\n",
       "\n",
       "    .dataframe tbody tr th {\n",
       "        vertical-align: top;\n",
       "    }\n",
       "\n",
       "    .dataframe thead th {\n",
       "        text-align: right;\n",
       "    }\n",
       "</style>\n",
       "<table border=\"1\" class=\"dataframe\">\n",
       "  <thead>\n",
       "    <tr style=\"text-align: right;\">\n",
       "      <th></th>\n",
       "      <th>line_id</th>\n",
       "      <th>character_id</th>\n",
       "      <th>character_name</th>\n",
       "      <th>line</th>\n",
       "    </tr>\n",
       "  </thead>\n",
       "  <tbody>\n",
       "    <tr>\n",
       "      <th>0</th>\n",
       "      <td>L1045</td>\n",
       "      <td>u0</td>\n",
       "      <td>BIANCA</td>\n",
       "      <td>They do not!</td>\n",
       "    </tr>\n",
       "    <tr>\n",
       "      <th>1</th>\n",
       "      <td>L1044</td>\n",
       "      <td>u2</td>\n",
       "      <td>CAMERON</td>\n",
       "      <td>They do to!</td>\n",
       "    </tr>\n",
       "    <tr>\n",
       "      <th>2</th>\n",
       "      <td>L985</td>\n",
       "      <td>u0</td>\n",
       "      <td>BIANCA</td>\n",
       "      <td>I hope so.</td>\n",
       "    </tr>\n",
       "    <tr>\n",
       "      <th>3</th>\n",
       "      <td>L984</td>\n",
       "      <td>u2</td>\n",
       "      <td>CAMERON</td>\n",
       "      <td>She okay?</td>\n",
       "    </tr>\n",
       "    <tr>\n",
       "      <th>4</th>\n",
       "      <td>L925</td>\n",
       "      <td>u0</td>\n",
       "      <td>BIANCA</td>\n",
       "      <td>Let's go.</td>\n",
       "    </tr>\n",
       "    <tr>\n",
       "      <th>5</th>\n",
       "      <td>L924</td>\n",
       "      <td>u2</td>\n",
       "      <td>CAMERON</td>\n",
       "      <td>Wow</td>\n",
       "    </tr>\n",
       "    <tr>\n",
       "      <th>6</th>\n",
       "      <td>L872</td>\n",
       "      <td>u0</td>\n",
       "      <td>BIANCA</td>\n",
       "      <td>Okay -- you're gonna need to learn how to lie.</td>\n",
       "    </tr>\n",
       "    <tr>\n",
       "      <th>7</th>\n",
       "      <td>L871</td>\n",
       "      <td>u2</td>\n",
       "      <td>CAMERON</td>\n",
       "      <td>No</td>\n",
       "    </tr>\n",
       "    <tr>\n",
       "      <th>8</th>\n",
       "      <td>L870</td>\n",
       "      <td>u0</td>\n",
       "      <td>BIANCA</td>\n",
       "      <td>I'm kidding.  You know how sometimes you just ...</td>\n",
       "    </tr>\n",
       "    <tr>\n",
       "      <th>9</th>\n",
       "      <td>L869</td>\n",
       "      <td>u0</td>\n",
       "      <td>BIANCA</td>\n",
       "      <td>Like my fear of wearing pastels?</td>\n",
       "    </tr>\n",
       "  </tbody>\n",
       "</table>\n",
       "</div>"
      ],
      "text/plain": [
       "  line_id character_id character_name  \\\n",
       "0   L1045           u0         BIANCA   \n",
       "1   L1044           u2        CAMERON   \n",
       "2    L985           u0         BIANCA   \n",
       "3    L984           u2        CAMERON   \n",
       "4    L925           u0         BIANCA   \n",
       "5    L924           u2        CAMERON   \n",
       "6    L872           u0         BIANCA   \n",
       "7    L871           u2        CAMERON   \n",
       "8    L870           u0         BIANCA   \n",
       "9    L869           u0         BIANCA   \n",
       "\n",
       "                                                line  \n",
       "0                                       They do not!  \n",
       "1                                        They do to!  \n",
       "2                                         I hope so.  \n",
       "3                                          She okay?  \n",
       "4                                          Let's go.  \n",
       "5                                                Wow  \n",
       "6     Okay -- you're gonna need to learn how to lie.  \n",
       "7                                                 No  \n",
       "8  I'm kidding.  You know how sometimes you just ...  \n",
       "9                   Like my fear of wearing pastels?  "
      ]
     },
     "metadata": {},
     "output_type": "display_data"
    },
    {
     "name": "stdout",
     "output_type": "stream",
     "text": [
      "<class 'pandas.core.frame.DataFrame'>\n",
      "RangeIndex: 304713 entries, 0 to 304712\n",
      "Data columns (total 4 columns):\n",
      " #   Column          Non-Null Count   Dtype \n",
      "---  ------          --------------   ----- \n",
      " 0   line_id         304713 non-null  object\n",
      " 1   character_id    304713 non-null  object\n",
      " 2   character_name  304713 non-null  object\n",
      " 3   line            304713 non-null  object\n",
      "dtypes: object(4)\n",
      "memory usage: 9.3+ MB\n"
     ]
    }
   ],
   "source": [
    "# Initialize containers for values to put in dataframe\n",
    "line_numbers = []\n",
    "character_ids = []\n",
    "character_names = []\n",
    "character_lines = []\n",
    "\n",
    "for line in lines:\n",
    "    # Split on whitespace\n",
    "    split = line.split(\" \")\n",
    "    line_numbers.append(split[0])\n",
    "    character_ids.append(split[2])\n",
    "    character_names.append(split[6])\n",
    "\n",
    "    # Extract the text after the last \"+\" character\n",
    "    l = re.split(r'\\+\\s+(?=[^+]*$)', line)[-1]\n",
    "    character_lines.append(l)\n",
    "\n",
    "\n",
    "# Create dataframe from extracted values\n",
    "movie_lines = pd.DataFrame(list(zip(line_numbers, character_ids, character_names, character_lines)), columns=[\"line_id\", \"character_id\", \"character_name\", \"line\"])\n",
    "display(movie_lines.head(10))\n",
    "movie_lines.info()"
   ]
  },
  {
   "cell_type": "code",
   "execution_count": 7,
   "metadata": {},
   "outputs": [
    {
     "name": "stdout",
     "output_type": "stream",
     "text": [
      "[\"u0 +++$+++ u2 +++$+++ m0 +++$+++ ['L194', 'L195', 'L196', 'L197']\", \"u0 +++$+++ u2 +++$+++ m0 +++$+++ ['L198', 'L199']\", \"u0 +++$+++ u2 +++$+++ m0 +++$+++ ['L200', 'L201', 'L202', 'L203']\", \"u0 +++$+++ u2 +++$+++ m0 +++$+++ ['L204', 'L205', 'L206']\", \"u0 +++$+++ u2 +++$+++ m0 +++$+++ ['L207', 'L208']\"]\n",
      "83097\n"
     ]
    }
   ],
   "source": [
    "# Collect movie conversation lists\n",
    "with open(cwd + \"/movie_lines/movie_conversations.txt\", \"r\", encoding=movie_conversations_encoding) as f:\n",
    "    content = f.read()\n",
    "\n",
    "lines = content.split(\"\\n\")\n",
    "\n",
    "# Print first 5 lines and verify length is correct\n",
    "print(lines[:5])\n",
    "\n",
    "# Remove last element of lines because its an empty string\n",
    "lines = lines[:-1]\n",
    "print(len(lines))"
   ]
  },
  {
   "cell_type": "code",
   "execution_count": 8,
   "metadata": {},
   "outputs": [
    {
     "name": "stdout",
     "output_type": "stream",
     "text": [
      "['L194', 'L195', 'L196', 'L197']\n"
     ]
    },
    {
     "data": {
      "text/html": [
       "<div>\n",
       "<style scoped>\n",
       "    .dataframe tbody tr th:only-of-type {\n",
       "        vertical-align: middle;\n",
       "    }\n",
       "\n",
       "    .dataframe tbody tr th {\n",
       "        vertical-align: top;\n",
       "    }\n",
       "\n",
       "    .dataframe thead th {\n",
       "        text-align: right;\n",
       "    }\n",
       "</style>\n",
       "<table border=\"1\" class=\"dataframe\">\n",
       "  <thead>\n",
       "    <tr style=\"text-align: right;\">\n",
       "      <th></th>\n",
       "      <th>speaker1_id</th>\n",
       "      <th>speaker2_id</th>\n",
       "      <th>conversation_lines</th>\n",
       "    </tr>\n",
       "  </thead>\n",
       "  <tbody>\n",
       "    <tr>\n",
       "      <th>0</th>\n",
       "      <td>u0</td>\n",
       "      <td>u2</td>\n",
       "      <td>['L194', 'L195', 'L196', 'L197']</td>\n",
       "    </tr>\n",
       "    <tr>\n",
       "      <th>1</th>\n",
       "      <td>u0</td>\n",
       "      <td>u2</td>\n",
       "      <td>['L198', 'L199']</td>\n",
       "    </tr>\n",
       "    <tr>\n",
       "      <th>2</th>\n",
       "      <td>u0</td>\n",
       "      <td>u2</td>\n",
       "      <td>['L200', 'L201', 'L202', 'L203']</td>\n",
       "    </tr>\n",
       "    <tr>\n",
       "      <th>3</th>\n",
       "      <td>u0</td>\n",
       "      <td>u2</td>\n",
       "      <td>['L204', 'L205', 'L206']</td>\n",
       "    </tr>\n",
       "    <tr>\n",
       "      <th>4</th>\n",
       "      <td>u0</td>\n",
       "      <td>u2</td>\n",
       "      <td>['L207', 'L208']</td>\n",
       "    </tr>\n",
       "  </tbody>\n",
       "</table>\n",
       "</div>"
      ],
      "text/plain": [
       "  speaker1_id speaker2_id                conversation_lines\n",
       "0          u0          u2  ['L194', 'L195', 'L196', 'L197']\n",
       "1          u0          u2                  ['L198', 'L199']\n",
       "2          u0          u2  ['L200', 'L201', 'L202', 'L203']\n",
       "3          u0          u2          ['L204', 'L205', 'L206']\n",
       "4          u0          u2                  ['L207', 'L208']"
      ]
     },
     "metadata": {},
     "output_type": "display_data"
    },
    {
     "name": "stdout",
     "output_type": "stream",
     "text": [
      "<class 'pandas.core.frame.DataFrame'>\n",
      "RangeIndex: 83097 entries, 0 to 83096\n",
      "Data columns (total 3 columns):\n",
      " #   Column              Non-Null Count  Dtype \n",
      "---  ------              --------------  ----- \n",
      " 0   speaker1_id         83097 non-null  object\n",
      " 1   speaker2_id         83097 non-null  object\n",
      " 2   conversation_lines  83097 non-null  object\n",
      "dtypes: object(3)\n",
      "memory usage: 1.9+ MB\n"
     ]
    }
   ],
   "source": [
    "# Initialize containers for values to put in dataframe\n",
    "speaker1_ids = []\n",
    "speaker2_ids = []\n",
    "conversation_lines = []\n",
    "\n",
    "l = re.split(r'\\+\\s+(?=[^+]*$)', lines[0])[-1]\n",
    "print(l)\n",
    "\n",
    "for line in lines:\n",
    "    # Split on whitespace\n",
    "    split = line.split(\" \")\n",
    "    speaker1_ids.append(split[0])\n",
    "    speaker2_ids.append(split[2])\n",
    "\n",
    "    # Extract the text after the last \"+\" character\n",
    "    l = re.split(r'\\+\\s+(?=[^+]*$)', line)[-1]\n",
    "    conversation_lines.append(l)\n",
    "\n",
    "\n",
    "# Create dataframe from extracted values\n",
    "movie_conversations = pd.DataFrame(list(zip(speaker1_ids, speaker2_ids, conversation_lines)), columns=[\"speaker1_id\", \"speaker2_id\", \"conversation_lines\"])\n",
    "display(movie_conversations.head())\n",
    "movie_conversations.info()"
   ]
  }
 ],
 "metadata": {
  "kernelspec": {
   "display_name": "base",
   "language": "python",
   "name": "python3"
  },
  "language_info": {
   "codemirror_mode": {
    "name": "ipython",
    "version": 3
   },
   "file_extension": ".py",
   "mimetype": "text/x-python",
   "name": "python",
   "nbconvert_exporter": "python",
   "pygments_lexer": "ipython3",
   "version": "3.9.17"
  },
  "orig_nbformat": 4
 },
 "nbformat": 4,
 "nbformat_minor": 2
}
